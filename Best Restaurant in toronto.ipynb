{
    "cells": [
        {
            "cell_type": "markdown",
            "metadata": {
                "collapsed": true
            },
            "source": "<h1>Introduction/Business Problem<h1>"
        },
        {
            "cell_type": "markdown",
            "metadata": {},
            "source": "<h2> Problem Statement<h2>"
        },
        {
            "attachments": {},
            "cell_type": "markdown",
            "metadata": {},
            "source": "\nTo find the best place to open a restaurant in the city of Toronto  Using Foursquare location data which can help the stakeholders to invest in a location which can result in maximum profit or someone who is looking to start a restaurant\nThis project can be further implemented to other cities as well to find the best location for opening a restaurant in that city"
        },
        {
            "cell_type": "markdown",
            "metadata": {},
            "source": "<h2>Data Required<h2>"
        },
        {
            "cell_type": "markdown",
            "metadata": {},
            "source": "For this project we will be required to use the following data from foursquare location data to get optimal results:\n1) Neighborhoods in the city of toronto\n2) Top venues around each neighborhood \n3) Traffic in each top venue in that neighborhood\n"
        },
        {
            "cell_type": "code",
            "execution_count": null,
            "metadata": {},
            "outputs": [],
            "source": ""
        }
    ],
    "metadata": {
        "kernelspec": {
            "display_name": "Python 3.7",
            "language": "python",
            "name": "python3"
        },
        "language_info": {
            "codemirror_mode": {
                "name": "ipython",
                "version": 3
            },
            "file_extension": ".py",
            "mimetype": "text/x-python",
            "name": "python",
            "nbconvert_exporter": "python",
            "pygments_lexer": "ipython3",
            "version": "3.7.9"
        }
    },
    "nbformat": 4,
    "nbformat_minor": 1
}